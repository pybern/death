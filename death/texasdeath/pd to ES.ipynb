{
 "cells": [
  {
   "cell_type": "code",
   "execution_count": 21,
   "metadata": {
    "collapsed": false
   },
   "outputs": [],
   "source": [
    "from pyelasticsearch import ElasticSearch\n",
    "import pandas as pd\n",
    "import numpy as np\n",
    "from sqlalchemy import create_engine, MetaData, Table, select\n",
    "from time import time\n",
    "\n",
    "servername = \"spmyfap00003\"\n",
    "database = \"eb\"\n",
    "serverdriver = \"sql server\"\n",
    "\n",
    "engine = create_engine('mssql+pyodbc://'+servername+'/'+database+'?driver='+serverdriver)"
   ]
  },
  {
   "cell_type": "code",
   "execution_count": 88,
   "metadata": {
    "collapsed": false,
    "scrolled": true
   },
   "outputs": [],
   "source": [
    "chunk = pd.read_sql('select claimnumber,patientname,companyname,diagnosisdescription,incurred \\\n",
    "                    from rclmext where datevisit = 20160104',engine, chunksize = 100)"
   ]
  },
  {
   "cell_type": "code",
   "execution_count": 81,
   "metadata": {
    "collapsed": false,
    "scrolled": true
   },
   "outputs": [
    {
     "data": {
      "text/plain": [
       "<generator object _query_iterator at 0x000000000C91C4C8>"
      ]
     },
     "execution_count": 81,
     "metadata": {},
     "output_type": "execute_result"
    }
   ],
   "source": [
    "chunk"
   ]
  },
  {
   "cell_type": "code",
   "execution_count": 23,
   "metadata": {
    "collapsed": false
   },
   "outputs": [],
   "source": [
    "es = ElasticSearch('http://localhost:9200/')"
   ]
  },
  {
   "cell_type": "code",
   "execution_count": 85,
   "metadata": {
    "collapsed": false
   },
   "outputs": [],
   "source": [
    "settings ={\n",
    "    'test':{\n",
    "    'properties':{\n",
    "    'companyname':{'index':'not_analyzed','type': 'string'},\n",
    "    'diagnosisdescription':{'index':'not_analyzed', 'type':'string'}\n",
    "         }\n",
    "    }\n",
    "}"
   ]
  },
  {
   "cell_type": "code",
   "execution_count": 86,
   "metadata": {
    "collapsed": false,
    "scrolled": true
   },
   "outputs": [
    {
     "data": {
      "text/plain": [
       "{u'acknowledged': True}"
      ]
     },
     "execution_count": 86,
     "metadata": {},
     "output_type": "execute_result"
    }
   ],
   "source": [
    "try :\n",
    "    es.delete_index(\"test\")\n",
    "except :\n",
    "    pass\n",
    "\n",
    "es.create_index(\"test\", settings={'mappings': settings})"
   ]
  },
  {
   "cell_type": "code",
   "execution_count": 89,
   "metadata": {
    "collapsed": false,
    "scrolled": true
   },
   "outputs": [
    {
     "name": "stdout",
     "output_type": "stream",
     "text": [
      "now indexing eb...\n",
      "0\n",
      "1\n",
      "2\n",
      "3\n",
      "4\n",
      "5\n",
      "6\n",
      "7\n",
      "8\n",
      "9\n",
      "10\n",
      "11\n",
      "12\n",
      "13\n",
      "14\n",
      "15\n",
      "16\n",
      "17\n",
      "18\n",
      "19\n",
      "20\n",
      "21\n",
      "22\n",
      "23\n",
      "24\n",
      "25\n",
      "26\n",
      "done in 6.745s\n"
     ]
    }
   ],
   "source": [
    "t0 = time()\n",
    "\n",
    "print \"now indexing %s...\"%(database)\n",
    "\n",
    "for i,df in enumerate(chunk): \n",
    "    print i\n",
    "    records=df.where(pd.notnull(df), None).T.to_dict()\n",
    "    list_records=[records[it] for it in records]\n",
    "    try :\n",
    "        es.bulk_index(\"test\",\"test\",list_records)\n",
    "    except :\n",
    "        print \"error!, skiping some, sorry\"\n",
    "        pass\n",
    "\n",
    "print \"done in %.3fs\"%(time()-t0)"
   ]
  },
  {
   "cell_type": "code",
   "execution_count": null,
   "metadata": {
    "collapsed": true
   },
   "outputs": [],
   "source": []
  }
 ],
 "metadata": {
  "kernelspec": {
   "display_name": "Python 2",
   "language": "python",
   "name": "python2"
  },
  "language_info": {
   "codemirror_mode": {
    "name": "ipython",
    "version": 2
   },
   "file_extension": ".py",
   "mimetype": "text/x-python",
   "name": "python",
   "nbconvert_exporter": "python",
   "pygments_lexer": "ipython2",
   "version": "2.7.11"
  }
 },
 "nbformat": 4,
 "nbformat_minor": 0
}
