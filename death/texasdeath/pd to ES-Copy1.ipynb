{
 "cells": [
  {
   "cell_type": "code",
   "execution_count": null,
   "metadata": {
    "collapsed": false
   },
   "outputs": [],
   "source": [
    "from pyelasticsearch import ElasticSearch\n",
    "import pandas as pd\n",
    "import numpy as np\n",
    "from sqlalchemy import create_engine, MetaData, Table, select\n",
    "from time import time\n",
    "\n",
    "servername = \"localhost\\sqlexpress\"\n",
    "database = \"Tableau\"\n",
    "serverdriver = \"sql server\"\n",
    "\n"
   ]
  },
  {
   "cell_type": "code",
   "execution_count": null,
   "metadata": {
    "collapsed": false
   },
   "outputs": [],
   "source": [
    "es = ElasticSearch('http://localhost:9200/')\n",
    "\n",
    "index = \"latest_aging\"\n",
    "doc = \"latest_entry\""
   ]
  },
  {
   "cell_type": "markdown",
   "metadata": {
    "collapsed": false
   },
   "source": [
    "settings ={\n",
    "    'test':{\n",
    "    'properties':{\n",
    "    'companyname':{'index':'not_analyzed','type': 'string'},\n",
    "    'diagnosisdescription':{'index':'not_analyzed', 'type':'string'}b\n",
    "         }\n",
    "    }\n",
    "}"
   ]
  },
  {
   "cell_type": "code",
   "execution_count": null,
   "metadata": {
    "collapsed": false
   },
   "outputs": [],
   "source": [
    "engine = create_engine('mssql+pyodbc://'+servername+'/'+database+'?driver='+serverdriver)\n",
    "\n",
    "date = ''' '20160115' '''\n",
    "\n",
    "\n",
    "chunk = pd.read_sql('select top 5 PolicyNo,ClientName,[Inter Type],[Inter Name] \\\n",
    "                    ,AM,[Bill Description],Age,[Age Bracket],recordDate  \\\n",
    "                    ,[Bill/Cheque No] ,[Gross O/S],[Curr Annual Prem] \\\n",
    "                    from [dbo].[G400AgingClosing] where cast(recorddate as date)=' + date,engine,chunksize = 1)\n",
    "\n",
    "\n",
    "\n",
    "\n",
    "settings ={\n",
    "    'records':{\n",
    "        'properties':{\n",
    "            'PolicyNo':{'index':'not_analyzed','type':'string'},\n",
    "            'ClientName':{'index':'not_analyzed','type':'string'},\n",
    "            'Inter Type':{'index':'not_analyzed','type':'string'},\n",
    "            'Inter Name':{'index':'not_analyzed','type':'string'},\n",
    "            'AM':{'index':'not_analyzed','type':'string'},\n",
    "            'Bill Description':{'type':'string'},\n",
    "            'Age':{'type':'integer'},\n",
    "            'Age Bracket':{'index':'not_analyzed','type':'string'},\n",
    "            'Bill/Cheque No':{'index':'not_analyzed','type':'string'},\n",
    "            'Gross O/S':{'index':'not_analyzed','type':'float'},\n",
    "            'Curr Annual Prem':{'index':'not_analyzed','type':'integer'}\n",
    "            \n",
    "        }\n",
    "    }\n",
    "}\n",
    "\n",
    "\n",
    "\n"
   ]
  },
  {
   "cell_type": "code",
   "execution_count": null,
   "metadata": {
    "collapsed": false,
    "scrolled": true
   },
   "outputs": [],
   "source": [
    "try :\n",
    "    es.delete_index(index)\n",
    "except :\n",
    "    pass\n",
    "\n",
    "es.create_index(index, settings={'mappings': settings})"
   ]
  },
  {
   "cell_type": "code",
   "execution_count": null,
   "metadata": {
    "collapsed": false,
    "scrolled": true
   },
   "outputs": [],
   "source": [
    "t0 = time()\n",
    "\n",
    "print \"now indexing %s...\"%(database)\n",
    "\n",
    "for i,df in enumerate(chunk): \n",
    "    print i\n",
    "    records=df.where(pd.notnull(df), None).T.to_dict()\n",
    "    list_records=[records[it] for it in records]\n",
    "    try :\n",
    "        #es.bulk_index(index,doc,list_records)\n",
    "        print records\n",
    "        print list_records\n",
    "    except :\n",
    "        print \"error!, skiping some, sorry\"\n",
    "        pass\n",
    "\n",
    "print \"done in %.3fs\"%(time()-t0)"
   ]
  },
  {
   "cell_type": "code",
   "execution_count": null,
   "metadata": {
    "collapsed": true
   },
   "outputs": [],
   "source": [
    "t0 = time()\n",
    "\n",
    "print \"now indexing %s...\"%(database)\n",
    "\n",
    "for i,df in enumerate(chunk): \n",
    "    print i\n",
    "    records=df.where(pd.notnull(df), None).T.to_dict()\n",
    "    list_records=[records[it] for it in records]\n",
    "    try :\n",
    "        es.bulk_index(index,doc,list_records)\n",
    "    except :\n",
    "        print \"error!, skiping some, sorry\"\n",
    "        pass\n",
    "\n",
    "print \"done in %.3fs\"%(time()-t0)"
   ]
  },
  {
   "cell_type": "code",
   "execution_count": 1,
   "metadata": {
    "collapsed": true
   },
   "outputs": [],
   "source": [
    "import numpy as np\n",
    "import pandas as pd\n",
    "import glob"
   ]
  },
  {
   "cell_type": "code",
   "execution_count": null,
   "metadata": {
    "collapsed": false
   },
   "outputs": [],
   "source": [
    "path = raw_input('Input your file path : ') # use your path\n",
    "file = raw_input('File type? : ')\n",
    "filetype =  \"/*.\" + file\n",
    "allFiles = glob.glob(path + filetype)\n",
    "df = pd.DataFrame()\n",
    "list_ = []\n",
    "\n",
    "\n",
    "for file_ in allFiles:\n",
    "    if filetype == \"/*.csv\":\n",
    "        chunks = pd.read_csv(file_,index_col=None, header=0, chunksize = 10)\n",
    "        for chunk in chunks:\n",
    "            list_.append(chunk)\n",
    "            df = pd.concat(list_, ignore_index = True)\n",
    "    else:\n",
    "        xls = pd.ExcelFile(file_)\n",
    "        if len(xls.sheet_names) > 0:\n",
    "            for sheet in xls.sheet_names:\n",
    "                sd = xls.parse(sheet)\n",
    "                df = df.append(sd, ignore_index = True)\n",
    "        else:\n",
    "            sd = pd.read_excel(file_,index_col=None, header=0)\n",
    "            df = df.append(sd, ignore_index = True)\n",
    "\n",
    "        \n",
    "        \n",
    "\n",
    "objectlist = list(df.select_dtypes(include=['object']).columns)\n",
    "\n",
    "pd.pivot_table(df,index=objectlist)\n",
    "\n",
    "\n",
    "    \n"
   ]
  }
 ],
 "metadata": {
  "kernelspec": {
   "display_name": "Python 2",
   "language": "python",
   "name": "python2"
  },
  "language_info": {
   "codemirror_mode": {
    "name": "ipython",
    "version": 2
   },
   "file_extension": ".py",
   "mimetype": "text/x-python",
   "name": "python",
   "nbconvert_exporter": "python",
   "pygments_lexer": "ipython2",
   "version": "2.7.11"
  }
 },
 "nbformat": 4,
 "nbformat_minor": 0
}
